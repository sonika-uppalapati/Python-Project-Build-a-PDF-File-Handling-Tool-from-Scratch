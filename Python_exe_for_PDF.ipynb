{
  "nbformat": 4,
  "nbformat_minor": 0,
  "metadata": {
    "colab": {
      "provenance": []
    },
    "kernelspec": {
      "name": "python3",
      "display_name": "Python 3"
    },
    "language_info": {
      "name": "python"
    }
  },
  "cells": [
    {
      "cell_type": "markdown",
      "source": [
        "# Merging PDFs : Combine multiple PDF files into one"
      ],
      "metadata": {
        "id": "GRaB8k3KDpht"
      }
    },
    {
      "cell_type": "code",
      "execution_count": 1,
      "metadata": {
        "colab": {
          "base_uri": "https://localhost:8080/"
        },
        "id": "0x055gP8DoTt",
        "outputId": "2faff559-0087-43a1-a24d-9a40752eefa3"
      },
      "outputs": [
        {
          "output_type": "stream",
          "name": "stdout",
          "text": [
            "Collecting PyPDF2\n",
            "  Downloading pypdf2-3.0.1-py3-none-any.whl.metadata (6.8 kB)\n",
            "Downloading pypdf2-3.0.1-py3-none-any.whl (232 kB)\n",
            "\u001b[2K   \u001b[90m━━━━━━━━━━━━━━━━━━━━━━━━━━━━━━━━━━━━━━━━\u001b[0m \u001b[32m232.6/232.6 kB\u001b[0m \u001b[31m3.6 MB/s\u001b[0m eta \u001b[36m0:00:00\u001b[0m\n",
            "\u001b[?25hInstalling collected packages: PyPDF2\n",
            "Successfully installed PyPDF2-3.0.1\n"
          ]
        }
      ],
      "source": [
        "# installing essential libraries\n",
        "!pip install PyPDF2"
      ]
    },
    {
      "cell_type": "code",
      "source": [
        "# Merging multiple PDF files\n",
        "\n",
        "import PyPDF2\n",
        "\n",
        "def merge_pdfs(pdf_list, output_path):\n",
        "    pdf_writer = PyPDF2.PdfWriter()\n",
        "    for pdf in pdf_list:\n",
        "        pdf_reader = PyPDF2.PdfReader(pdf)\n",
        "        for page_num in range(len(pdf_reader.pages)):\n",
        "            pdf_writer.add_page(pdf_reader.pages[page_num])\n",
        "\n",
        "    with open(output_path, 'wb') as out:\n",
        "        pdf_writer.write(out)\n",
        "    print(f\"Merged PDF saved as {output_path}\")\n",
        "\n",
        "\n",
        "# let's use the above function\n",
        "\n",
        "# Provide the output path for the merged PDF\n",
        "merge_pdfs(['Page+1.pdf','Page+2.pdf','Page+3.pdf', 'Page+4.pdf'], 'merged.pdf')\n",
        "\n",
        "# our output file will be merged.pdf"
      ],
      "metadata": {
        "colab": {
          "base_uri": "https://localhost:8080/"
        },
        "id": "T91eKR2REPVV",
        "outputId": "b98f5a99-c3af-41ff-ee7f-2c919b967762"
      },
      "execution_count": 5,
      "outputs": [
        {
          "output_type": "stream",
          "name": "stdout",
          "text": [
            "Merged PDF saved as merged.pdf\n"
          ]
        }
      ]
    },
    {
      "cell_type": "code",
      "source": [
        "# splitting PDF file yo multiple PDF files / pages\n",
        "\n",
        "import PyPDF2\n",
        "\n",
        "def split_pdf(pdf_path, output_dir):\n",
        "    pdf_reader = PyPDF2.PdfReader(pdf_path)\n",
        "    for page_num in range(len(pdf_reader.pages)):\n",
        "        pdf_writer = PyPDF2.PdfWriter()\n",
        "        pdf_writer.add_page(pdf_reader.pages[page_num])\n",
        "        output_path = f\"{output_dir}/page_{page_num + 1}.pdf\"\n",
        "\n",
        "        with open(output_path, 'wb') as out:\n",
        "            pdf_writer.write(out)\n",
        "        print(f\" Saved {output_path}\")\n",
        "\n",
        "# let's use the above function\n",
        "\n",
        "split_pdf('merged.pdf', 'pdf_files')"
      ],
      "metadata": {
        "colab": {
          "base_uri": "https://localhost:8080/"
        },
        "id": "zBpCEYu_GN3A",
        "outputId": "b038ec8d-084f-4ca4-e08c-cbb1621b4bca"
      },
      "execution_count": 6,
      "outputs": [
        {
          "output_type": "stream",
          "name": "stdout",
          "text": [
            " Saved pdf_files/page_1.pdf\n",
            " Saved pdf_files/page_2.pdf\n",
            " Saved pdf_files/page_3.pdf\n",
            " Saved pdf_files/page_4.pdf\n"
          ]
        }
      ]
    },
    {
      "cell_type": "code",
      "source": [
        "# extract text from PDF files\n",
        "!pip install pdfplumber"
      ],
      "metadata": {
        "colab": {
          "base_uri": "https://localhost:8080/"
        },
        "id": "695qxmkAQQIg",
        "outputId": "fa027274-cf65-4169-b402-69599e5b4370"
      },
      "execution_count": 7,
      "outputs": [
        {
          "output_type": "stream",
          "name": "stdout",
          "text": [
            "Collecting pdfplumber\n",
            "  Downloading pdfplumber-0.11.4-py3-none-any.whl.metadata (41 kB)\n",
            "\u001b[?25l     \u001b[90m━━━━━━━━━━━━━━━━━━━━━━━━━━━━━━━━━━━━━━━━\u001b[0m \u001b[32m0.0/42.0 kB\u001b[0m \u001b[31m?\u001b[0m eta \u001b[36m-:--:--\u001b[0m\r\u001b[2K     \u001b[90m━━━━━━━━━━━━━━━━━━━━━━━━━━━━━━━━━━━━━━━━\u001b[0m \u001b[32m42.0/42.0 kB\u001b[0m \u001b[31m1.6 MB/s\u001b[0m eta \u001b[36m0:00:00\u001b[0m\n",
            "\u001b[?25hCollecting pdfminer.six==20231228 (from pdfplumber)\n",
            "  Downloading pdfminer.six-20231228-py3-none-any.whl.metadata (4.2 kB)\n",
            "Requirement already satisfied: Pillow>=9.1 in /usr/local/lib/python3.10/dist-packages (from pdfplumber) (9.4.0)\n",
            "Collecting pypdfium2>=4.18.0 (from pdfplumber)\n",
            "  Downloading pypdfium2-4.30.0-py3-none-manylinux_2_17_x86_64.manylinux2014_x86_64.whl.metadata (48 kB)\n",
            "\u001b[2K     \u001b[90m━━━━━━━━━━━━━━━━━━━━━━━━━━━━━━━━━━━━━━━━\u001b[0m \u001b[32m48.5/48.5 kB\u001b[0m \u001b[31m2.9 MB/s\u001b[0m eta \u001b[36m0:00:00\u001b[0m\n",
            "\u001b[?25hRequirement already satisfied: charset-normalizer>=2.0.0 in /usr/local/lib/python3.10/dist-packages (from pdfminer.six==20231228->pdfplumber) (3.3.2)\n",
            "Requirement already satisfied: cryptography>=36.0.0 in /usr/local/lib/python3.10/dist-packages (from pdfminer.six==20231228->pdfplumber) (42.0.8)\n",
            "Requirement already satisfied: cffi>=1.12 in /usr/local/lib/python3.10/dist-packages (from cryptography>=36.0.0->pdfminer.six==20231228->pdfplumber) (1.17.0)\n",
            "Requirement already satisfied: pycparser in /usr/local/lib/python3.10/dist-packages (from cffi>=1.12->cryptography>=36.0.0->pdfminer.six==20231228->pdfplumber) (2.22)\n",
            "Downloading pdfplumber-0.11.4-py3-none-any.whl (59 kB)\n",
            "\u001b[2K   \u001b[90m━━━━━━━━━━━━━━━━━━━━━━━━━━━━━━━━━━━━━━━━\u001b[0m \u001b[32m59.2/59.2 kB\u001b[0m \u001b[31m4.0 MB/s\u001b[0m eta \u001b[36m0:00:00\u001b[0m\n",
            "\u001b[?25hDownloading pdfminer.six-20231228-py3-none-any.whl (5.6 MB)\n",
            "\u001b[2K   \u001b[90m━━━━━━━━━━━━━━━━━━━━━━━━━━━━━━━━━━━━━━━━\u001b[0m \u001b[32m5.6/5.6 MB\u001b[0m \u001b[31m51.3 MB/s\u001b[0m eta \u001b[36m0:00:00\u001b[0m\n",
            "\u001b[?25hDownloading pypdfium2-4.30.0-py3-none-manylinux_2_17_x86_64.manylinux2014_x86_64.whl (2.8 MB)\n",
            "\u001b[2K   \u001b[90m━━━━━━━━━━━━━━━━━━━━━━━━━━━━━━━━━━━━━━━━\u001b[0m \u001b[32m2.8/2.8 MB\u001b[0m \u001b[31m51.4 MB/s\u001b[0m eta \u001b[36m0:00:00\u001b[0m\n",
            "\u001b[?25hInstalling collected packages: pypdfium2, pdfminer.six, pdfplumber\n",
            "Successfully installed pdfminer.six-20231228 pdfplumber-0.11.4 pypdfium2-4.30.0\n"
          ]
        }
      ]
    },
    {
      "cell_type": "code",
      "source": [
        "import pdfplumber\n",
        "\n",
        "def extract_text(pdf_path, output_text_path):\n",
        "    with pdfplumber.open(pdf_path) as pdf:\n",
        "        full_text = \"\"\n",
        "        for page in pdf.pages:\n",
        "            full_text += page.extract_text() + \"\\n\"\n",
        "\n",
        "        with open(output_text_path, 'w') as f:\n",
        "            f.write(full_text)\n",
        "        print(f\"extracted text is saved as{output_text_path}\")\n",
        "\n",
        "# let's use the above function\n",
        "\n",
        "extract_text('Page+1.pdf', 'output.txt')"
      ],
      "metadata": {
        "colab": {
          "base_uri": "https://localhost:8080/"
        },
        "id": "Y_-aXEGdQbv3",
        "outputId": "00188d2a-1096-40df-c376-ee0138361913"
      },
      "execution_count": 9,
      "outputs": [
        {
          "output_type": "stream",
          "name": "stdout",
          "text": [
            "extracted text is saved asoutput.txt\n"
          ]
        }
      ]
    },
    {
      "cell_type": "code",
      "source": [
        "# extract images from the PDF file\n",
        "!pip install PyMuPDF"
      ],
      "metadata": {
        "colab": {
          "base_uri": "https://localhost:8080/"
        },
        "id": "a92sBK_NTbVd",
        "outputId": "cb24b782-aa04-42d0-c850-f49cca150122"
      },
      "execution_count": 10,
      "outputs": [
        {
          "output_type": "stream",
          "name": "stdout",
          "text": [
            "Collecting PyMuPDF\n",
            "  Downloading PyMuPDF-1.24.9-cp310-none-manylinux2014_x86_64.whl.metadata (3.4 kB)\n",
            "Collecting PyMuPDFb==1.24.9 (from PyMuPDF)\n",
            "  Downloading PyMuPDFb-1.24.9-py3-none-manylinux2014_x86_64.manylinux_2_17_x86_64.whl.metadata (1.4 kB)\n",
            "Downloading PyMuPDF-1.24.9-cp310-none-manylinux2014_x86_64.whl (3.5 MB)\n",
            "\u001b[2K   \u001b[90m━━━━━━━━━━━━━━━━━━━━━━━━━━━━━━━━━━━━━━━━\u001b[0m \u001b[32m3.5/3.5 MB\u001b[0m \u001b[31m24.3 MB/s\u001b[0m eta \u001b[36m0:00:00\u001b[0m\n",
            "\u001b[?25hDownloading PyMuPDFb-1.24.9-py3-none-manylinux2014_x86_64.manylinux_2_17_x86_64.whl (15.9 MB)\n",
            "\u001b[2K   \u001b[90m━━━━━━━━━━━━━━━━━━━━━━━━━━━━━━━━━━━━━━━━\u001b[0m \u001b[32m15.9/15.9 MB\u001b[0m \u001b[31m46.1 MB/s\u001b[0m eta \u001b[36m0:00:00\u001b[0m\n",
            "\u001b[?25hInstalling collected packages: PyMuPDFb, PyMuPDF\n",
            "Successfully installed PyMuPDF-1.24.9 PyMuPDFb-1.24.9\n"
          ]
        }
      ]
    },
    {
      "cell_type": "code",
      "source": [
        "# extract images from the PDF file\n",
        "\n",
        "import fitz  # PyMuPDF\n",
        "\n",
        "def extract_images(pdf_path, output_dir):\n",
        "    pdf_document = fitz.open(pdf_path)\n",
        "    for page_index in range(len(pdf_document)):\n",
        "        page = pdf_document.load_page(page_index)\n",
        "        image_list = page.get_images(full=True)\n",
        "\n",
        "        for image_index, img in enumerate(image_list):\n",
        "            xref = img[0]\n",
        "            base_image = pdf_document.extract_image(xref)\n",
        "            image_bytes = base_image[\"image\"]\n",
        "            image_ext = base_image[\"ext\"]\n",
        "            image_filename = f\"{output_dir}/image_{page_index + 1}_{image_index + 1}.{image_ext}\"\n",
        "\n",
        "            with open(image_filename, \"wb\") as image_file:\n",
        "                image_file.write(image_bytes)\n",
        "            print(f\"Saved {image_filename}\")\n",
        "\n",
        "# let's use the above function\n",
        "\n",
        "extract_images('Page+1.pdf', 'folder')"
      ],
      "metadata": {
        "colab": {
          "base_uri": "https://localhost:8080/"
        },
        "id": "0ffOZVK-TQl7",
        "outputId": "6fde7727-6141-45e7-d9c3-c2c1b00d8816"
      },
      "execution_count": 11,
      "outputs": [
        {
          "output_type": "stream",
          "name": "stdout",
          "text": [
            "Saved folder/image_1_1.jpeg\n"
          ]
        }
      ]
    },
    {
      "cell_type": "code",
      "source": [
        "# creating password protected PDFs (encrypted PDF file).\n",
        "\n",
        "import PyPDF2\n",
        "\n",
        "def encrypt_pdf(input_pdf, output_pdf, password):\n",
        "    pdf_reader = PyPDF2.PdfReader(input_pdf)\n",
        "    pdf_writer = PyPDF2.PdfWriter()\n",
        "    for page_num in range(len(pdf_reader.pages)):\n",
        "        pdf_writer.add_page(pdf_reader.pages[page_num])\n",
        "\n",
        "    pdf_writer.encrypt(password)\n",
        "\n",
        "    with open(output_pdf, 'wb') as out:\n",
        "        pdf_writer.write(out)\n",
        "    print(f\"Encrypted PDF saved as {output_pdf}\")\n",
        "\n",
        "\n",
        "# let's use the above function\n",
        "\n",
        "encrypt_pdf('merged.pdf', 'encrypted.pdf', 'pass123')\n"
      ],
      "metadata": {
        "colab": {
          "base_uri": "https://localhost:8080/"
        },
        "id": "x367sQVcU-fr",
        "outputId": "608008df-3737-4408-8a18-f9eeca31eabf"
      },
      "execution_count": 12,
      "outputs": [
        {
          "output_type": "stream",
          "name": "stdout",
          "text": [
            "Encrypted PDF saved as encrypted.pdf\n"
          ]
        }
      ]
    },
    {
      "cell_type": "code",
      "source": [
        "# decrypting PDFs : remove password protection from PDF files\n",
        "\n",
        "def decrypt_pdf(input_pdf, output_pdf, password):\n",
        "    pdf_reader = PyPDF2.PdfReader(input_pdf)\n",
        "    pdf_reader.decrypt(password)\n",
        "    pdf_writer = PyPDF2.PdfWriter()\n",
        "    for page_num in range(len(pdf_reader.pages)):\n",
        "        pdf_writer.add_page(pdf_reader.pages[page_num])\n",
        "\n",
        "\n",
        "    with open(output_pdf, 'wb') as out:\n",
        "        pdf_writer.write(out)\n",
        "    print(f\"Decrypted PDF saved as {output_pdf}\")\n",
        "\n",
        "\n",
        "# let's use the above function\n",
        "\n",
        "decrypt_pdf('encrypted.pdf', 'decrypted.pdf', 'pass123')"
      ],
      "metadata": {
        "colab": {
          "base_uri": "https://localhost:8080/"
        },
        "id": "loZe06WWWNEZ",
        "outputId": "3c5040b9-200d-4809-cbd3-46ac7865cfc2"
      },
      "execution_count": 15,
      "outputs": [
        {
          "output_type": "stream",
          "name": "stdout",
          "text": [
            "Decrypted PDF saved as decrypted.pdf\n"
          ]
        }
      ]
    },
    {
      "cell_type": "code",
      "source": [
        "# rearranging PDF Pages : reorder or delete pages within a PDF\n",
        "\n",
        "def rearrange_pages(input_pdf, output_pdf, page_order):\n",
        "    pdf_reader = PyPDF2.PdfReader(input_pdf)\n",
        "    pdf_writer = PyPDF2.PdfWriter()\n",
        "    for page_num in page_order:\n",
        "        pdf_writer.add_page(pdf_reader.pages[page_num])\n",
        "\n",
        "    with open(output_pdf, 'wb') as out:\n",
        "        pdf_writer.write(out)\n",
        "    print(f\"Rearranged PDF saved as {output_pdf}\")\n",
        "\n",
        "\n",
        "# let's use the above function\n",
        "\n",
        "rearrange_pages('merged.pdf', 'rearrange.pdf', [2,1,0])\n",
        "\n",
        "#[2,1,0] means file pages in reverse order"
      ],
      "metadata": {
        "colab": {
          "base_uri": "https://localhost:8080/"
        },
        "id": "i1PxcTrbW-zO",
        "outputId": "b8b45557-0516-4437-afa3-6e733926b9b4"
      },
      "execution_count": 16,
      "outputs": [
        {
          "output_type": "stream",
          "name": "stdout",
          "text": [
            "Rearranged PDF saved as rearrange.pdf\n"
          ]
        }
      ]
    },
    {
      "cell_type": "code",
      "source": [
        "# rotating pages : rotate individual pages in a PDF\n",
        "\n",
        "def rotate_pages(input_pdf, output_pdf, rotation):\n",
        "    pdf_reader = PyPDF2.PdfReader(input_pdf)\n",
        "    pdf_writer = PyPDF2.PdfWriter()\n",
        "    for page_num in range(len(pdf_reader.pages)):\n",
        "        page = pdf_reader.pages[page_num]\n",
        "        page.rotate(rotation)\n",
        "        pdf_writer.add_page(page)\n",
        "\n",
        "    with open(output_pdf, 'wb') as out:\n",
        "        pdf_writer.write(out)\n",
        "    print(f\"Rotated PDF saved as {output_pdf}\")\n",
        "\n",
        "\n",
        "# let's use the above function\n",
        "\n",
        "rotate_pages('merged.pdf', 'rotated.pdf', 90)"
      ],
      "metadata": {
        "colab": {
          "base_uri": "https://localhost:8080/"
        },
        "id": "Tt3ZNn0uXxTT",
        "outputId": "6a59ad9b-4593-4259-f4b0-6edd5e1436c8"
      },
      "execution_count": 17,
      "outputs": [
        {
          "output_type": "stream",
          "name": "stdout",
          "text": [
            "Rotated PDF saved as rotated.pdf\n"
          ]
        }
      ]
    },
    {
      "cell_type": "code",
      "source": [
        "# adding metadata : read, add or modify metadata (title, author, etc)\n",
        "\n",
        "def read_metadata(pdf_file):\n",
        "    pdf_reader = PyPDF2.PdfReader(pdf_file)\n",
        "    metadata = pdf_reader.metadata\n",
        "\n",
        "    print(\"Metadata of the PDF file is :\")\n",
        "    for key, value in metadata.items():\n",
        "        print(f\"{key}: {value}\")\n",
        "\n",
        "\n",
        "# let's use the above function\n",
        "\n",
        "read_metadata('merged.pdf')"
      ],
      "metadata": {
        "colab": {
          "base_uri": "https://localhost:8080/"
        },
        "id": "XPf-hUAOYL7s",
        "outputId": "2d0be58f-d96c-490f-cd1c-23b04950c60b"
      },
      "execution_count": 18,
      "outputs": [
        {
          "output_type": "stream",
          "name": "stdout",
          "text": [
            "Metadata of the PDF file is :\n",
            "/Producer: PyPDF2\n"
          ]
        }
      ]
    },
    {
      "cell_type": "code",
      "source": [
        "def add_metadata(input_pdf, output_pdf, tilte, author):\n",
        "    pdf_reader = PyPDF2.PdfReader(input_pdf)\n",
        "    pdf_writer = PyPDF2.PdfWriter()\n",
        "    for page_num in range(len(pdf_reader.pages)):\n",
        "        pdf_writer.add_page(pdf_reader.pages[page_num])\n",
        "\n",
        "    metadata = {\n",
        "        '/Title': tilte,\n",
        "        '/Author': author\n",
        "    }\n",
        "    pdf_writer.add_metadata(metadata)\n",
        "\n",
        "    with open(output_pdf, 'wb') as out:\n",
        "        pdf_writer.write(out)\n",
        "    print(f\"Metadata added to PDF saved as {output_pdf}\")\n",
        "\n",
        "\n",
        "# let's use the above\n",
        "\n",
        "add_metadata('merged.pdf', 'metadata.pdf', 'Sample File', 'Sonika')"
      ],
      "metadata": {
        "colab": {
          "base_uri": "https://localhost:8080/"
        },
        "id": "8lZcNr5sZ0YW",
        "outputId": "4f4d87d5-a17c-40a4-80c6-c7d43941fc7e"
      },
      "execution_count": 19,
      "outputs": [
        {
          "output_type": "stream",
          "name": "stdout",
          "text": [
            "Metadata added to PDF saved as metadata.pdf\n"
          ]
        }
      ]
    },
    {
      "cell_type": "code",
      "source": [
        "def read_metadata(pdf_file):\n",
        "    pdf_reader = PyPDF2.PdfReader(pdf_file)\n",
        "    metadata = pdf_reader.metadata\n",
        "\n",
        "    print(\"Metadata of the PDF file is :\")\n",
        "    for key, value in metadata.items():\n",
        "        print(f\"{key}: {value}\")\n",
        "\n",
        "\n",
        "# let's use the above function\n",
        "\n",
        "read_metadata('metadata.pdf')"
      ],
      "metadata": {
        "colab": {
          "base_uri": "https://localhost:8080/"
        },
        "id": "9_d60chia5At",
        "outputId": "7b78b636-e781-4427-8219-3325b098f560"
      },
      "execution_count": 20,
      "outputs": [
        {
          "output_type": "stream",
          "name": "stdout",
          "text": [
            "Metadata of the PDF file is :\n",
            "/Producer: PyPDF2\n",
            "/Title: Sample File\n",
            "/Author: Sonika\n"
          ]
        }
      ]
    },
    {
      "cell_type": "code",
      "source": [
        "# optimize the file of the PDF file (compressing PDF file)\n",
        "import fitz  # PyMuPDF\n",
        "\n",
        "def optimize_pdf(input_file, output_file):\n",
        "    pdf_document = fitz.open(input_file)\n",
        "    pdf_document.save(output_file, garbage=4, deflate=True)\n",
        "    print(f\"Optimized PDF saved as {output_file}\")\n",
        "\n",
        "\n",
        "# let's use the above function\n",
        "\n",
        "optimize_pdf('merged.pdf', 'optimized.pdf')"
      ],
      "metadata": {
        "colab": {
          "base_uri": "https://localhost:8080/"
        },
        "id": "fHiP0MdwbCfG",
        "outputId": "6438dc89-1e18-43d2-fc05-6138e1a509de"
      },
      "execution_count": 21,
      "outputs": [
        {
          "output_type": "stream",
          "name": "stdout",
          "text": [
            "Optimized PDF saved as optimized.pdf\n"
          ]
        }
      ]
    },
    {
      "cell_type": "code",
      "source": [
        "# building a file handling tool : creating executable ( .exe) files from python code\n",
        "\n",
        "# example code : merging multiple PDF files\n",
        "\n",
        "\n",
        "import PyPDF2\n",
        "import os\n",
        "\n",
        "\n",
        "def merge_pdfs(input_folder, output_pdf):\n",
        "# remove the existing merged.pdf file if it exists.\n",
        "\n",
        "    if os.path.exists(output_pdf):\n",
        "        os.remove(output_pdf)\n",
        "\n",
        "# get a list of PDF files in the input folder\n",
        "    pdf_files = [file for file in os.listdir(input_folder) if file.endswith('.pdf')]\n",
        "\n",
        "# sort the list of PDF files (this is optional)\n",
        "    pdf_files.sort()\n",
        "\n",
        "# create a PDF writer object\n",
        "    pdf_writer = PyPDF2.PdfWriter() # Moved the pdf_writer initialization outside the loop\n",
        "    for pdf in pdf_files:\n",
        "        with open(os.path.join(input_folder, pdf), 'rb') as f:\n",
        "            pdf_reader = PyPDF2.PdfReader(f) # Changed 'file' to 'f' to match the file object\n",
        "            for page_num in range(len(pdf_reader.pages)):\n",
        "                pdf_writer.add_page(pdf_reader.pages[page_num])\n",
        "\n",
        "# write the merged PDF to the output file.\n",
        "    with open(output_pdf, 'wb') as out:\n",
        "        pdf_writer.write(out)\n",
        "    print(f\"Merged PDF saved as {output_pdf}\")\n",
        "\n",
        "# Let's use the above function\n",
        "\n",
        "input_folder = 'pdf_files' # path to the folder containing PDF files to merge\n",
        "output_pdf = 'pdf_files/merged.pdf' # path to the output merged PDF file\n",
        "\n",
        "merge_pdfs(input_folder, output_pdf) # Removed extra space in 'output_pdf ' and passed the variables, not strings"
      ],
      "metadata": {
        "colab": {
          "base_uri": "https://localhost:8080/"
        },
        "id": "NF7wRQtGcBzf",
        "outputId": "0268b72c-bd8b-4c05-dba8-48869b01760d"
      },
      "execution_count": 23,
      "outputs": [
        {
          "output_type": "stream",
          "name": "stdout",
          "text": [
            "Merged PDF saved as pdf_files/merged.pdf\n"
          ]
        }
      ]
    }
  ]
}